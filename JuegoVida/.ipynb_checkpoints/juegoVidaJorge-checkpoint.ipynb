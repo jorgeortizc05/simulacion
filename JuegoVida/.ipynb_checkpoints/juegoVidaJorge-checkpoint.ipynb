{
 "cells": [
  {
   "cell_type": "markdown",
   "metadata": {},
   "source": [
    "# Informe juego de la vida\n",
    "* Resultados que se espera del simulador\n",
    "\n",
    "Experimentar a partir de patrones de celulas establecidas para obtener elices de distintas formas, agregando paredes y envolviendo completamente al patron de celulas.\n",
    "    \n",
    "Patrones para que las celulas se mantengan con vida por mas tiempo.\n",
    "<p>\n",
    "Numero de celulas iniciales = 12.\n",
    "\n",
    "![titulo](jv1.png)\n",
    "\n"
   ]
  },
  {
   "cell_type": "markdown",
   "metadata": {
    "collapsed": true
   },
   "source": [
    "* Plan de experimentacion.\n",
    "\n",
    "Se va a usar una secuencia de celulas sin puntos de conexion"
   ]
  },
  {
   "cell_type": "code",
   "execution_count": 1,
   "metadata": {
    "collapsed": true,
    "scrolled": true
   },
   "outputs": [],
   "source": [
    "#!/usr/bin/env python3\n",
    "\n",
    "import sys\n",
    "import turtle\n",
    "import random\n",
    "\n",
    "CELL_SIZE = 10                  # Measured in pixels\n",
    "\n",
    "class LifeBoard:\n",
    "    \"\"\"Encapsula una tabla de vida\n",
    "\n",
    "    Atributos:\n",
    "    xsize, ysize: tamaño horizontal y vertical del tablero.\n",
    "    estado: conjunto que contiene (x, y) coordenadas para celdas vivas.\n",
    "\n",
    "    Métodos:\n",
    "    display (update_board): muestra el estado de la placa en pantalla.\n",
    "    borrar () - borrar todo el tablero\n",
    "    makeRandom () - llena el tablero al azar\n",
    "    set (x, y) - establece la celda dada a Live; no actualiza la pantalla\n",
    "    toggle (x, y) - cambia la celda dada de vivo a muerto, o vicio\n",
    "                   versa, y actualizar la pantalla.\n",
    "\n",
    "    \"\"\"\n",
    "    def __init__(self, xsize, ysize):\n",
    "        \"\"\"Create a new LifeBoard instance.\n",
    "\n",
    "        scr -- curses screen object to use for display\n",
    "        char -- character used to render live cells (default: '*')\n",
    "        \"\"\"\n",
    "        self.state = set()\n",
    "        self.xsize, self.ysize = xsize, ysize\n",
    "\n",
    "    def is_legal(self, x, y):\n",
    "        \"Returns true if the x,y coordinates are legal for this board.\"\n",
    "        return (0 <= x < self.xsize) and (0 <= y < self.ysize)\n",
    "\n",
    "    def set(self, x, y):\n",
    "        \"\"\"Set a cell to the live state.\"\"\"\n",
    "        if not self.is_legal(x, y):\n",
    "            raise ValueError(\"Coordinates {}, {} out of range 0..{}, 0..{}\".format(\n",
    "                    x, y, self.xsize, self.ysize))\n",
    "                             \n",
    "        key = (x, y)\n",
    "        self.state.add(key)\n",
    "\n",
    "    def makeRandom(self):\n",
    "        \"Fill the board with a random pattern\"\n",
    "        self.erase()\n",
    "        for i in range(0, self.xsize):\n",
    "            for j in range(0, self.ysize):\n",
    "                if random.random() > 0.5:\n",
    "                    self.set(i, j)\n",
    "\n",
    "    def toggle(self, x, y):\n",
    "        \"\"\"Toggle a cell's state between live and dead.\"\"\"\n",
    "        if not self.is_legal(x, y):\n",
    "            raise ValueError(\"Coordinates {}, {} out of range 0..{}, 0..{}\".format(\n",
    "                    x, y, self.xsize, self.ysize))\n",
    "        key = (x, y)\n",
    "        if key in self.state:\n",
    "            self.state.remove(key)\n",
    "        else:\n",
    "            self.state.add(key)\n",
    "\n",
    "    def erase(self):\n",
    "        \"\"\"Clear the entire board.\"\"\"\n",
    "        self.state.clear()\n",
    "   \n",
    "    def step(self):\n",
    "        \"Compute one generation, updating the display.\"\n",
    "        nuevaCelula = 0\n",
    "        muerteCelula = 0\n",
    "        sobreviviente = 0\n",
    "        d = set()\n",
    "        for i in range(self.xsize):\n",
    "            x_range = range( max(0, i-1), min(self.xsize, i+2) )\n",
    "            for j in range(self.ysize):\n",
    "                s = 0\n",
    "                live = ((i,j) in self.state)\n",
    "                for yp in range( max(0, j-1), min(self.ysize, j+2) ):\n",
    "                    for xp in x_range:\n",
    "                        if (xp, yp) in self.state:\n",
    "                            s += 1\n",
    "\n",
    "                # Subtract the central cell's value; it doesn't count.\n",
    "                s -= live             \n",
    "                #print(d)\n",
    "                #print(i, j, s, live)\n",
    "                if s == 3:\n",
    "                    # Birth\n",
    "                    nuevaCelula = nuevaCelula + 1\n",
    "                    d.add((i,j))\n",
    "                elif s == 2 and live: \n",
    "                    # Survival\n",
    "                    sobreviviente = sobreviviente + 1\n",
    "                    d.add((i,j))\n",
    "                    \n",
    "                elif live:\n",
    "                    muerteCelula = muerteCelula +1\n",
    "                    # Death\n",
    "                    pass\n",
    "\n",
    "        self.state = d\n",
    "        print(\"Nueva Celula \")\n",
    "        print(nuevaCelula)\n",
    "        print(\"Muere Celula \")\n",
    "        print(muerteCelula)\n",
    "        print(\"Sobrevivientes\")\n",
    "        print(sobreviviente)\n",
    "        print(paso)\n",
    "\n",
    "    #\n",
    "    # Display-related methods\n",
    "    #                    \n",
    "    def draw(self, x, y):\n",
    "        \"Update the cell (x,y) on the display.\"\n",
    "        turtle.penup()\n",
    "        key = (x, y)\n",
    "        if key in self.state:\n",
    "            turtle.setpos(x*CELL_SIZE, y*CELL_SIZE)\n",
    "            turtle.color('black')\n",
    "            turtle.pendown()\n",
    "            turtle.setheading(0)\n",
    "            turtle.begin_fill()\n",
    "            for i in range(4):\n",
    "                turtle.forward(CELL_SIZE-1)\n",
    "                turtle.left(90)\n",
    "            turtle.end_fill()\n",
    "            \n",
    "    def display(self):\n",
    "        \"\"\"Draw the whole board\"\"\"\n",
    "        turtle.clear()\n",
    "        for i in range(self.xsize):\n",
    "            for j in range(self.ysize):\n",
    "                self.draw(i, j)\n",
    "        turtle.update()\n",
    "\n",
    "\n",
    "def display_help_window():\n",
    "    from turtle import TK\n",
    "    root = TK.Tk()\n",
    "    frame = TK.Frame()\n",
    "    canvas = TK.Canvas(root, width=300, height=200, bg=\"white\")\n",
    "    canvas.pack()\n",
    "    help_screen = turtle.TurtleScreen(canvas)\n",
    "    help_t = turtle.RawTurtle(help_screen)\n",
    "    help_t.penup()\n",
    "    help_t.hideturtle()\n",
    "    help_t.speed('fastest')\n",
    "\n",
    "    width, height = help_screen.screensize()\n",
    "    line_height = 20\n",
    "    y = height // 2 - 30\n",
    "    for s in (\"Hacer click en las celdas\",\n",
    "              \"Comandos\",\n",
    "              \" E)Limpiar tabla\",\n",
    "              \" R)Aleatorio\",\n",
    "              \" S)Paso por Paso\",\n",
    "              \" C)Correr -- Usar S para detener\",\n",
    "              \" Q)Salir\"):\n",
    "        help_t.setpos(-(width / 2), y)\n",
    "        help_t.write(s, font=('sans-serif', 14, 'normal'))\n",
    "        y -= line_height\n",
    "    \n",
    "\n",
    "def main():\n",
    "    display_help_window()\n",
    "\n",
    "    scr = turtle.Screen()\n",
    "    turtle.mode('standard')\n",
    "    xsize, ysize = scr.screensize()\n",
    "    turtle.setworldcoordinates(0, 0, xsize, ysize)\n",
    "\n",
    "    turtle.hideturtle()\n",
    "    turtle.speed('fastest')\n",
    "    turtle.tracer(0, 0)\n",
    "    turtle.penup()\n",
    "\n",
    "    board = LifeBoard(xsize // CELL_SIZE, 1 + ysize // CELL_SIZE)\n",
    "\n",
    "    # Set up mouse bindings\n",
    "    def toggle(x, y):\n",
    "        cell_x = x // CELL_SIZE\n",
    "        cell_y = y // CELL_SIZE\n",
    "        if board.is_legal(cell_x, cell_y):\n",
    "            board.toggle(cell_x, cell_y)\n",
    "            board.display()\n",
    "\n",
    "    turtle.onscreenclick(turtle.listen)\n",
    "    turtle.onscreenclick(toggle)\n",
    "\n",
    "    board.makeRandom()\n",
    "    board.display()\n",
    "\n",
    "    # Ingreso por teclado\n",
    "    # E: Limpiar. R: Celulas aleatorias. Q: Salir. \n",
    "    def erase():\n",
    "        board.erase()\n",
    "        board.display()\n",
    "    turtle.onkey(erase, 'e')\n",
    "\n",
    "    def makeRandom():\n",
    "        board.makeRandom()\n",
    "        board.display()\n",
    "    turtle.onkey(makeRandom, 'r')\n",
    "\n",
    "    turtle.onkey(sys.exit, 'q')\n",
    "\n",
    "    continuous = False\n",
    "    def step_once():\n",
    "        nonlocal continuous\n",
    "        continuous = False\n",
    "        perform_step()\n",
    "\n",
    "    def step_continuous():\n",
    "        nonlocal continuous\n",
    "        continuous = True\n",
    "        perform_step()\n",
    "\n",
    "    def perform_step():\n",
    "        board.step()\n",
    "        board.display()\n",
    "        # In continuous mode, we set a timer to display another generation\n",
    "        # after 25 millisenconds.\n",
    "        if continuous:\n",
    "            turtle.ontimer(perform_step, 500)\n",
    "\n",
    "    turtle.onkey(step_once, 's')\n",
    "    turtle.onkey(step_continuous, 'c')\n",
    "\n",
    "    # Enter the Tk main loop\n",
    "    turtle.listen()\n",
    "    turtle.mainloop()\n",
    "\n",
    "if __name__ == '__main__':\n",
    "    main()"
   ]
  },
  {
   "cell_type": "markdown",
   "metadata": {},
   "source": [
    "Patrones simples de celulas, se obtiene una elice con interacciones infinitas.\n",
    "![titulo](img1.png)"
   ]
  },
  {
   "cell_type": "code",
   "execution_count": 18,
   "metadata": {
    "collapsed": false
   },
   "outputs": [
    {
     "data": {
      "image/png": "[encoded data removed]",
      "text/plain": [
       "<matplotlib.figure.Figure at 0x7eff1bdb8b00>"
      ]
     },
     "metadata": {},
     "output_type": "display_data"
    }
   ],
   "source": [
    "lista1 = [12, 12, 12, 12, 12, 12, 12]\n",
    "plt.plot(lista1)\n",
    "plt.title(\"Título\")\n",
    "plt.xlabel(\"Interacciones\")\n",
    "plt.ylabel(\"# Celulas Vivas\")\n",
    "plt.show()"
   ]
  },
  {
   "cell_type": "markdown",
   "metadata": {},
   "source": [
    "Luego se agrego una pared a estas interacciones, y se obtiene un circulo, de igual forma, las celulas no desaparecen, es decir, interacciones sin fin.\n",
    "![titulo](img2.png)"
   ]
  },
  {
   "cell_type": "code",
   "execution_count": 21,
   "metadata": {
    "collapsed": false
   },
   "outputs": [
    {
     "data": {
      "image/png": "[encoded data removed]",
      "text/plain": [
       "<matplotlib.figure.Figure at 0x7eff1befed68>"
      ]
     },
     "metadata": {},
     "output_type": "display_data"
    }
   ],
   "source": [
    "lista1 = [15, 15, 15, 15, 15, 15, 15]\n",
    "plt.plot(lista1)\n",
    "plt.title(\"Título\")\n",
    "plt.xlabel(\"Interacciones\")\n",
    "plt.ylabel(\"# Celulas Vivas\")\n",
    "plt.show()"
   ]
  },
  {
   "cell_type": "markdown",
   "metadata": {},
   "source": [
    "Si agrego una pared a cada lado, se obtiene otra interaccion de circulos infinita pero con la diferencia de que las celulas se mantienen fijas, creando asi una nueva elice.\n",
    "![titulo](img3.png)"
   ]
  },
  {
   "cell_type": "code",
   "execution_count": 24,
   "metadata": {
    "collapsed": false
   },
   "outputs": [
    {
     "data": {
      "image/png": "[encoded data removed]",
      "text/plain": [
       "<matplotlib.figure.Figure at 0x7eff40401128>"
      ]
     },
     "metadata": {},
     "output_type": "display_data"
    }
   ],
   "source": [
    "lista1 = [24, 24, 24, 24, 24, 24 ,24]\n",
    "plt.plot(lista1)\n",
    "plt.title(\"Título\")\n",
    "plt.xlabel(\"Interacciones\")\n",
    "plt.ylabel(\"# Celulas Vivas\")\n",
    "plt.show()"
   ]
  },
  {
   "cell_type": "markdown",
   "metadata": {
    "collapsed": true
   },
   "source": [
    "Para romper este ciclo infinito, se podria encerrar el patron de celulas dentro de un cuadrado, estas generan nuevas elices de diferentes formas. Y en la interaccion numero 12 todas las celulas mueren rompiendo asi, el ciclo infinito que tenian las anteriores simulaciones\n",
    "![titulo](jv7.png) ![titulo](img4.png) ![titulo](img5.png) ![titulo](jv18.png)\n"
   ]
  },
  {
   "cell_type": "markdown",
   "metadata": {
    "collapsed": true
   },
   "source": [
    "Una gráfica del numero de células vidas en cada interacción de la ultima simulación."
   ]
  },
  {
   "cell_type": "code",
   "execution_count": 23,
   "metadata": {
    "collapsed": false
   },
   "outputs": [
    {
     "data": {
      "image/png": "[encoded data removed]",
      "text/plain": [
       "<matplotlib.figure.Figure at 0x7eff1bbbc400>"
      ]
     },
     "metadata": {},
     "output_type": "display_data"
    }
   ],
   "source": [
    "lista1 = [41,53,44,40,56,40, 40, 32, 32, 56, 21, 16, 0]\n",
    "plt.plot(lista1)\n",
    "plt.title(\"Título\")\n",
    "plt.xlabel(\"Interacciones\")\n",
    "plt.ylabel(\"# Celulas Vivas\")\n",
    "plt.show()"
   ]
  }
 ],
 "metadata": {
  "kernelspec": {
   "display_name": "python 3.4-Simulacion",
   "language": "python",
   "name": "entornosimulacion"
  },
  "language_info": {
   "codemirror_mode": {
    "name": "ipython",
    "version": 3
   },
   "file_extension": ".py",
   "mimetype": "text/x-python",
   "name": "python",
   "nbconvert_exporter": "python",
   "pygments_lexer": "ipython3",
   "version": "3.4.5"
  }
 },
 "nbformat": 4,
 "nbformat_minor": 2
}
